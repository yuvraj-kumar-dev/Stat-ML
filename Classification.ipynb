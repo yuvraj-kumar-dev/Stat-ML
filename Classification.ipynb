{
 "cells": [
  {
   "cell_type": "code",
   "execution_count": 1,
   "id": "8a2209f9-4c80-4571-b3e3-eb265ef162bb",
   "metadata": {},
   "outputs": [],
   "source": [
    "import pandas as pd"
   ]
  },
  {
   "cell_type": "code",
   "execution_count": 2,
   "id": "7c165576-d9b7-4971-9ca5-d60947206a24",
   "metadata": {},
   "outputs": [
    {
     "data": {
      "text/plain": [
       "Index(['Occupation', 'Monthly Income', 'Credit Score', 'Years of Employment',\n",
       "       'Finance Status', 'Finance History', 'Car', 'Number of Children'],\n",
       "      dtype='object')"
      ]
     },
     "execution_count": 2,
     "metadata": {},
     "output_type": "execute_result"
    }
   ],
   "source": [
    "df = pd.read_csv('Car Ownership.csv')\n",
    "df.keys()"
   ]
  },
  {
   "cell_type": "code",
   "execution_count": 3,
   "id": "f1b337ce-c6c2-4569-8c65-64ef0a3e1d5f",
   "metadata": {},
   "outputs": [
    {
     "data": {
      "text/html": [
       "<div>\n",
       "<style scoped>\n",
       "    .dataframe tbody tr th:only-of-type {\n",
       "        vertical-align: middle;\n",
       "    }\n",
       "\n",
       "    .dataframe tbody tr th {\n",
       "        vertical-align: top;\n",
       "    }\n",
       "\n",
       "    .dataframe thead th {\n",
       "        text-align: right;\n",
       "    }\n",
       "</style>\n",
       "<table border=\"1\" class=\"dataframe\">\n",
       "  <thead>\n",
       "    <tr style=\"text-align: right;\">\n",
       "      <th></th>\n",
       "      <th>Monthly Income</th>\n",
       "      <th>Car</th>\n",
       "    </tr>\n",
       "  </thead>\n",
       "  <tbody>\n",
       "    <tr>\n",
       "      <th>0</th>\n",
       "      <td>40000</td>\n",
       "      <td>Yes</td>\n",
       "    </tr>\n",
       "    <tr>\n",
       "      <th>1</th>\n",
       "      <td>60000</td>\n",
       "      <td>Yes</td>\n",
       "    </tr>\n",
       "    <tr>\n",
       "      <th>2</th>\n",
       "      <td>25000</td>\n",
       "      <td>No</td>\n",
       "    </tr>\n",
       "    <tr>\n",
       "      <th>3</th>\n",
       "      <td>80000</td>\n",
       "      <td>Yes</td>\n",
       "    </tr>\n",
       "    <tr>\n",
       "      <th>4</th>\n",
       "      <td>100000</td>\n",
       "      <td>Yes</td>\n",
       "    </tr>\n",
       "    <tr>\n",
       "      <th>5</th>\n",
       "      <td>50000</td>\n",
       "      <td>No</td>\n",
       "    </tr>\n",
       "    <tr>\n",
       "      <th>6</th>\n",
       "      <td>35000</td>\n",
       "      <td>Yes</td>\n",
       "    </tr>\n",
       "    <tr>\n",
       "      <th>7</th>\n",
       "      <td>20000</td>\n",
       "      <td>No</td>\n",
       "    </tr>\n",
       "    <tr>\n",
       "      <th>8</th>\n",
       "      <td>120000</td>\n",
       "      <td>Yes</td>\n",
       "    </tr>\n",
       "    <tr>\n",
       "      <th>9</th>\n",
       "      <td>90000</td>\n",
       "      <td>Yes</td>\n",
       "    </tr>\n",
       "    <tr>\n",
       "      <th>10</th>\n",
       "      <td>0</td>\n",
       "      <td>0</td>\n",
       "    </tr>\n",
       "    <tr>\n",
       "      <th>11</th>\n",
       "      <td>6000</td>\n",
       "      <td>Yes</td>\n",
       "    </tr>\n",
       "    <tr>\n",
       "      <th>12</th>\n",
       "      <td>3000</td>\n",
       "      <td>No</td>\n",
       "    </tr>\n",
       "    <tr>\n",
       "      <th>13</th>\n",
       "      <td>4000</td>\n",
       "      <td>Yes</td>\n",
       "    </tr>\n",
       "    <tr>\n",
       "      <th>14</th>\n",
       "      <td>8000</td>\n",
       "      <td>Yes</td>\n",
       "    </tr>\n",
       "    <tr>\n",
       "      <th>15</th>\n",
       "      <td>9000</td>\n",
       "      <td>Yes</td>\n",
       "    </tr>\n",
       "    <tr>\n",
       "      <th>16</th>\n",
       "      <td>12000</td>\n",
       "      <td>Yes</td>\n",
       "    </tr>\n",
       "    <tr>\n",
       "      <th>17</th>\n",
       "      <td>5000</td>\n",
       "      <td>No</td>\n",
       "    </tr>\n",
       "    <tr>\n",
       "      <th>18</th>\n",
       "      <td>7000</td>\n",
       "      <td>Yes</td>\n",
       "    </tr>\n",
       "    <tr>\n",
       "      <th>19</th>\n",
       "      <td>3500</td>\n",
       "      <td>No</td>\n",
       "    </tr>\n",
       "    <tr>\n",
       "      <th>20</th>\n",
       "      <td>2500</td>\n",
       "      <td>No</td>\n",
       "    </tr>\n",
       "    <tr>\n",
       "      <th>21</th>\n",
       "      <td>5500</td>\n",
       "      <td>Yes</td>\n",
       "    </tr>\n",
       "    <tr>\n",
       "      <th>22</th>\n",
       "      <td>4500</td>\n",
       "      <td>No</td>\n",
       "    </tr>\n",
       "    <tr>\n",
       "      <th>23</th>\n",
       "      <td>3000</td>\n",
       "      <td>No</td>\n",
       "    </tr>\n",
       "    <tr>\n",
       "      <th>24</th>\n",
       "      <td>4000</td>\n",
       "      <td>No</td>\n",
       "    </tr>\n",
       "  </tbody>\n",
       "</table>\n",
       "</div>"
      ],
      "text/plain": [
       "   Monthly Income  Car\n",
       "0           40000  Yes\n",
       "1           60000  Yes\n",
       "2           25000   No\n",
       "3           80000  Yes\n",
       "4          100000  Yes\n",
       "5           50000   No\n",
       "6           35000  Yes\n",
       "7           20000   No\n",
       "8          120000  Yes\n",
       "9           90000  Yes\n",
       "10              0    0\n",
       "11           6000  Yes\n",
       "12           3000   No\n",
       "13           4000  Yes\n",
       "14           8000  Yes\n",
       "15           9000  Yes\n",
       "16          12000  Yes\n",
       "17           5000   No\n",
       "18           7000  Yes\n",
       "19           3500   No\n",
       "20           2500   No\n",
       "21           5500  Yes\n",
       "22           4500   No\n",
       "23           3000   No\n",
       "24           4000   No"
      ]
     },
     "execution_count": 3,
     "metadata": {},
     "output_type": "execute_result"
    }
   ],
   "source": [
    "df = df[['Monthly Income', 'Car']]\n",
    "df = df.head(25)\n",
    "df = df.fillna(0)\n",
    "df"
   ]
  },
  {
   "cell_type": "code",
   "execution_count": 4,
   "id": "d8e7b00b-b1d3-41e1-85e5-279e3fe6027b",
   "metadata": {},
   "outputs": [
    {
     "data": {
      "text/html": [
       "<div>\n",
       "<style scoped>\n",
       "    .dataframe tbody tr th:only-of-type {\n",
       "        vertical-align: middle;\n",
       "    }\n",
       "\n",
       "    .dataframe tbody tr th {\n",
       "        vertical-align: top;\n",
       "    }\n",
       "\n",
       "    .dataframe thead th {\n",
       "        text-align: right;\n",
       "    }\n",
       "</style>\n",
       "<table border=\"1\" class=\"dataframe\">\n",
       "  <thead>\n",
       "    <tr style=\"text-align: right;\">\n",
       "      <th></th>\n",
       "      <th>Car_own</th>\n",
       "    </tr>\n",
       "  </thead>\n",
       "  <tbody>\n",
       "    <tr>\n",
       "      <th>0</th>\n",
       "      <td>1</td>\n",
       "    </tr>\n",
       "    <tr>\n",
       "      <th>1</th>\n",
       "      <td>1</td>\n",
       "    </tr>\n",
       "    <tr>\n",
       "      <th>2</th>\n",
       "      <td>0</td>\n",
       "    </tr>\n",
       "    <tr>\n",
       "      <th>3</th>\n",
       "      <td>1</td>\n",
       "    </tr>\n",
       "    <tr>\n",
       "      <th>4</th>\n",
       "      <td>1</td>\n",
       "    </tr>\n",
       "    <tr>\n",
       "      <th>5</th>\n",
       "      <td>0</td>\n",
       "    </tr>\n",
       "    <tr>\n",
       "      <th>6</th>\n",
       "      <td>1</td>\n",
       "    </tr>\n",
       "    <tr>\n",
       "      <th>7</th>\n",
       "      <td>0</td>\n",
       "    </tr>\n",
       "    <tr>\n",
       "      <th>8</th>\n",
       "      <td>1</td>\n",
       "    </tr>\n",
       "    <tr>\n",
       "      <th>9</th>\n",
       "      <td>1</td>\n",
       "    </tr>\n",
       "    <tr>\n",
       "      <th>10</th>\n",
       "      <td>0</td>\n",
       "    </tr>\n",
       "    <tr>\n",
       "      <th>11</th>\n",
       "      <td>1</td>\n",
       "    </tr>\n",
       "    <tr>\n",
       "      <th>12</th>\n",
       "      <td>0</td>\n",
       "    </tr>\n",
       "    <tr>\n",
       "      <th>13</th>\n",
       "      <td>1</td>\n",
       "    </tr>\n",
       "    <tr>\n",
       "      <th>14</th>\n",
       "      <td>1</td>\n",
       "    </tr>\n",
       "    <tr>\n",
       "      <th>15</th>\n",
       "      <td>1</td>\n",
       "    </tr>\n",
       "    <tr>\n",
       "      <th>16</th>\n",
       "      <td>1</td>\n",
       "    </tr>\n",
       "    <tr>\n",
       "      <th>17</th>\n",
       "      <td>0</td>\n",
       "    </tr>\n",
       "    <tr>\n",
       "      <th>18</th>\n",
       "      <td>1</td>\n",
       "    </tr>\n",
       "    <tr>\n",
       "      <th>19</th>\n",
       "      <td>0</td>\n",
       "    </tr>\n",
       "    <tr>\n",
       "      <th>20</th>\n",
       "      <td>0</td>\n",
       "    </tr>\n",
       "    <tr>\n",
       "      <th>21</th>\n",
       "      <td>1</td>\n",
       "    </tr>\n",
       "    <tr>\n",
       "      <th>22</th>\n",
       "      <td>0</td>\n",
       "    </tr>\n",
       "    <tr>\n",
       "      <th>23</th>\n",
       "      <td>0</td>\n",
       "    </tr>\n",
       "    <tr>\n",
       "      <th>24</th>\n",
       "      <td>0</td>\n",
       "    </tr>\n",
       "  </tbody>\n",
       "</table>\n",
       "</div>"
      ],
      "text/plain": [
       "    Car_own\n",
       "0         1\n",
       "1         1\n",
       "2         0\n",
       "3         1\n",
       "4         1\n",
       "5         0\n",
       "6         1\n",
       "7         0\n",
       "8         1\n",
       "9         1\n",
       "10        0\n",
       "11        1\n",
       "12        0\n",
       "13        1\n",
       "14        1\n",
       "15        1\n",
       "16        1\n",
       "17        0\n",
       "18        1\n",
       "19        0\n",
       "20        0\n",
       "21        1\n",
       "22        0\n",
       "23        0\n",
       "24        0"
      ]
     },
     "execution_count": 4,
     "metadata": {},
     "output_type": "execute_result"
    }
   ],
   "source": [
    "list = []\n",
    "\n",
    "for i in df['Car']:\n",
    "    if i == 'Yes':\n",
    "        list.append(1)\n",
    "    else:\n",
    "        list.append(0)\n",
    "\n",
    "target = pd.DataFrame({'Car_own': list })\n",
    "target"
   ]
  },
  {
   "cell_type": "code",
   "execution_count": 5,
   "id": "c881d00c-fdb2-42cf-a018-2317ea0bc040",
   "metadata": {},
   "outputs": [
    {
     "data": {
      "text/plain": [
       "((25, 1), (25, 1))"
      ]
     },
     "execution_count": 5,
     "metadata": {},
     "output_type": "execute_result"
    }
   ],
   "source": [
    "X = df.drop(['Car'], axis=1)\n",
    "y = target\n",
    "\n",
    "X.shape, y.shape"
   ]
  },
  {
   "cell_type": "code",
   "execution_count": 6,
   "id": "9890ad43-1ff2-461a-bfd1-85997baa2b9e",
   "metadata": {},
   "outputs": [
    {
     "name": "stderr",
     "output_type": "stream",
     "text": [
      "C:\\Users\\yuvra\\anaconda3\\Lib\\site-packages\\sklearn\\utils\\validation.py:1408: DataConversionWarning: A column-vector y was passed when a 1d array was expected. Please change the shape of y to (n_samples, ), for example using ravel().\n",
      "  y = column_or_1d(y, warn=True)\n"
     ]
    },
    {
     "data": {
      "text/plain": [
       "0.625"
      ]
     },
     "execution_count": 6,
     "metadata": {},
     "output_type": "execute_result"
    }
   ],
   "source": [
    "from sklearn.model_selection import train_test_split\n",
    "from sklearn.linear_model import LogisticRegression\n",
    "\n",
    "X_train, X_test, y_train, y_test = train_test_split(X, y, test_size=0.3, random_state=42)\n",
    "\n",
    "model = LogisticRegression()\n",
    "model.fit(X_train, y_train)\n",
    "model.score(X_test, y_test)"
   ]
  },
  {
   "cell_type": "code",
   "execution_count": 7,
   "id": "6d16d095-9f73-4c99-9c56-bcff14b13196",
   "metadata": {},
   "outputs": [],
   "source": [
    "data = pd.read_csv('Car_Ownership.csv')\n",
    "X = data['Monthly Income']\n",
    "z = data['Car']"
   ]
  },
  {
   "cell_type": "code",
   "execution_count": 8,
   "id": "9092dae4-d3ff-4cef-bab0-46b057b53510",
   "metadata": {},
   "outputs": [],
   "source": [
    "q = []\n",
    "\n",
    "for i in z:\n",
    "    if i == 'Yes':\n",
    "        q.append(1)\n",
    "    else:\n",
    "        q.append(0)\n",
    "\n",
    "target1 = pd.DataFrame({'Car_own': q})"
   ]
  },
  {
   "cell_type": "code",
   "execution_count": 9,
   "id": "297013aa-ff24-42cd-a559-05613dfdb33d",
   "metadata": {},
   "outputs": [],
   "source": [
    "y = target1\n",
    "X = pd.DataFrame(X)"
   ]
  },
  {
   "cell_type": "code",
   "execution_count": 10,
   "id": "5dceffcd-f198-45dd-9b8a-fec7bd2936fd",
   "metadata": {},
   "outputs": [
    {
     "name": "stderr",
     "output_type": "stream",
     "text": [
      "C:\\Users\\yuvra\\anaconda3\\Lib\\site-packages\\sklearn\\utils\\validation.py:1408: DataConversionWarning: A column-vector y was passed when a 1d array was expected. Please change the shape of y to (n_samples, ), for example using ravel().\n",
      "  y = column_or_1d(y, warn=True)\n"
     ]
    },
    {
     "data": {
      "text/plain": [
       "0.8819875776397516"
      ]
     },
     "execution_count": 10,
     "metadata": {},
     "output_type": "execute_result"
    }
   ],
   "source": [
    "X_train, X_test, y_train, y_test = train_test_split(X, y, test_size=0.35, random_state=42)\n",
    "\n",
    "model = LogisticRegression()\n",
    "model.fit(X_train, y_train)\n",
    "model.score(X_test, y_test)"
   ]
  },
  {
   "cell_type": "code",
   "execution_count": 11,
   "id": "976d741f-f819-4147-bc07-5351e1b0ca11",
   "metadata": {},
   "outputs": [
    {
     "data": {
      "text/html": [
       "<div>\n",
       "<style scoped>\n",
       "    .dataframe tbody tr th:only-of-type {\n",
       "        vertical-align: middle;\n",
       "    }\n",
       "\n",
       "    .dataframe tbody tr th {\n",
       "        vertical-align: top;\n",
       "    }\n",
       "\n",
       "    .dataframe thead th {\n",
       "        text-align: right;\n",
       "    }\n",
       "</style>\n",
       "<table border=\"1\" class=\"dataframe\">\n",
       "  <thead>\n",
       "    <tr style=\"text-align: right;\">\n",
       "      <th></th>\n",
       "      <th>Monthly Income</th>\n",
       "    </tr>\n",
       "  </thead>\n",
       "  <tbody>\n",
       "    <tr>\n",
       "      <th>124</th>\n",
       "      <td>3500.0</td>\n",
       "    </tr>\n",
       "    <tr>\n",
       "      <th>30</th>\n",
       "      <td>3200.0</td>\n",
       "    </tr>\n",
       "    <tr>\n",
       "      <th>199</th>\n",
       "      <td>2500.0</td>\n",
       "    </tr>\n",
       "    <tr>\n",
       "      <th>439</th>\n",
       "      <td>4800.0</td>\n",
       "    </tr>\n",
       "    <tr>\n",
       "      <th>154</th>\n",
       "      <td>3000.0</td>\n",
       "    </tr>\n",
       "    <tr>\n",
       "      <th>...</th>\n",
       "      <td>...</td>\n",
       "    </tr>\n",
       "    <tr>\n",
       "      <th>203</th>\n",
       "      <td>3600.0</td>\n",
       "    </tr>\n",
       "    <tr>\n",
       "      <th>109</th>\n",
       "      <td>12000.0</td>\n",
       "    </tr>\n",
       "    <tr>\n",
       "      <th>393</th>\n",
       "      <td>4500.0</td>\n",
       "    </tr>\n",
       "    <tr>\n",
       "      <th>145</th>\n",
       "      <td>6000.0</td>\n",
       "    </tr>\n",
       "    <tr>\n",
       "      <th>220</th>\n",
       "      <td>6500.0</td>\n",
       "    </tr>\n",
       "  </tbody>\n",
       "</table>\n",
       "<p>161 rows × 1 columns</p>\n",
       "</div>"
      ],
      "text/plain": [
       "     Monthly Income\n",
       "124          3500.0\n",
       "30           3200.0\n",
       "199          2500.0\n",
       "439          4800.0\n",
       "154          3000.0\n",
       "..              ...\n",
       "203          3600.0\n",
       "109         12000.0\n",
       "393          4500.0\n",
       "145          6000.0\n",
       "220          6500.0\n",
       "\n",
       "[161 rows x 1 columns]"
      ]
     },
     "execution_count": 11,
     "metadata": {},
     "output_type": "execute_result"
    }
   ],
   "source": [
    "X_test"
   ]
  },
  {
   "cell_type": "code",
   "execution_count": 12,
   "id": "0384ec0f-6242-4067-a2b9-0d2fd534adba",
   "metadata": {},
   "outputs": [
    {
     "data": {
      "text/html": [
       "<div>\n",
       "<style scoped>\n",
       "    .dataframe tbody tr th:only-of-type {\n",
       "        vertical-align: middle;\n",
       "    }\n",
       "\n",
       "    .dataframe tbody tr th {\n",
       "        vertical-align: top;\n",
       "    }\n",
       "\n",
       "    .dataframe thead th {\n",
       "        text-align: right;\n",
       "    }\n",
       "</style>\n",
       "<table border=\"1\" class=\"dataframe\">\n",
       "  <thead>\n",
       "    <tr style=\"text-align: right;\">\n",
       "      <th></th>\n",
       "      <th>Car_own</th>\n",
       "    </tr>\n",
       "  </thead>\n",
       "  <tbody>\n",
       "    <tr>\n",
       "      <th>124</th>\n",
       "      <td>0</td>\n",
       "    </tr>\n",
       "    <tr>\n",
       "      <th>30</th>\n",
       "      <td>0</td>\n",
       "    </tr>\n",
       "    <tr>\n",
       "      <th>199</th>\n",
       "      <td>0</td>\n",
       "    </tr>\n",
       "    <tr>\n",
       "      <th>439</th>\n",
       "      <td>1</td>\n",
       "    </tr>\n",
       "    <tr>\n",
       "      <th>154</th>\n",
       "      <td>0</td>\n",
       "    </tr>\n",
       "    <tr>\n",
       "      <th>...</th>\n",
       "      <td>...</td>\n",
       "    </tr>\n",
       "    <tr>\n",
       "      <th>203</th>\n",
       "      <td>1</td>\n",
       "    </tr>\n",
       "    <tr>\n",
       "      <th>109</th>\n",
       "      <td>1</td>\n",
       "    </tr>\n",
       "    <tr>\n",
       "      <th>393</th>\n",
       "      <td>1</td>\n",
       "    </tr>\n",
       "    <tr>\n",
       "      <th>145</th>\n",
       "      <td>1</td>\n",
       "    </tr>\n",
       "    <tr>\n",
       "      <th>220</th>\n",
       "      <td>1</td>\n",
       "    </tr>\n",
       "  </tbody>\n",
       "</table>\n",
       "<p>161 rows × 1 columns</p>\n",
       "</div>"
      ],
      "text/plain": [
       "     Car_own\n",
       "124        0\n",
       "30         0\n",
       "199        0\n",
       "439        1\n",
       "154        0\n",
       "..       ...\n",
       "203        1\n",
       "109        1\n",
       "393        1\n",
       "145        1\n",
       "220        1\n",
       "\n",
       "[161 rows x 1 columns]"
      ]
     },
     "execution_count": 12,
     "metadata": {},
     "output_type": "execute_result"
    }
   ],
   "source": [
    "y_test"
   ]
  },
  {
   "cell_type": "code",
   "execution_count": 13,
   "id": "d20a3b00-6851-42bd-82ab-d556d697d9c6",
   "metadata": {},
   "outputs": [],
   "source": [
    "y_pred = model.predict(X_test)"
   ]
  },
  {
   "cell_type": "code",
   "execution_count": 14,
   "id": "d9d5a62e-88cf-43aa-ab56-77570f39ba25",
   "metadata": {},
   "outputs": [
    {
     "data": {
      "text/plain": [
       "array([[5.40418662e-01, 4.59581338e-01],\n",
       "       [5.76104764e-01, 4.23895236e-01],\n",
       "       [6.55795150e-01, 3.44204850e-01],\n",
       "       [3.85722144e-01, 6.14277856e-01],\n",
       "       [5.99485027e-01, 4.00514973e-01],\n",
       "       [7.64082186e-02, 9.23591781e-01],\n",
       "       [9.52728722e-02, 9.04727128e-01],\n",
       "       [1.78431092e-01, 8.21568908e-01],\n",
       "       [4.55175764e-03, 9.95448242e-01],\n",
       "       [5.87844443e-01, 4.12155557e-01],\n",
       "       [3.85722144e-01, 6.14277856e-01],\n",
       "       [1.28635230e-01, 8.71364770e-01],\n",
       "       [5.40418662e-01, 4.59581338e-01],\n",
       "       [5.40418662e-01, 4.59581338e-01],\n",
       "       [2.94100044e-07, 9.99999706e-01],\n",
       "       [3.85660002e-02, 9.61434000e-01],\n",
       "       [7.08044001e-01, 2.91955999e-01],\n",
       "       [0.00000000e+00, 1.00000000e+00],\n",
       "       [1.93021309e-01, 8.06978691e-01],\n",
       "       [2.63377637e-08, 9.99999974e-01],\n",
       "       [1.93021309e-01, 8.06978691e-01],\n",
       "       [4.80194506e-01, 5.19805494e-01],\n",
       "       [2.79304652e-01, 7.20695348e-01],\n",
       "       [2.42146589e-01, 7.57853411e-01],\n",
       "       [6.11014394e-01, 3.88985606e-01],\n",
       "       [7.64082186e-02, 9.23591781e-01],\n",
       "       [6.33693465e-01, 3.66306535e-01],\n",
       "       [4.20540473e-01, 5.79459527e-01],\n",
       "       [1.64718617e-01, 8.35281383e-01],\n",
       "       [0.00000000e+00, 1.00000000e+00],\n",
       "       [6.55795150e-01, 3.44204850e-01],\n",
       "       [5.76104764e-01, 4.23895236e-01],\n",
       "       [3.85722144e-01, 6.14277856e-01],\n",
       "       [5.87844443e-01, 4.12155557e-01],\n",
       "       [3.85722144e-01, 6.14277856e-01],\n",
       "       [4.56167778e-01, 5.43832222e-01],\n",
       "       [2.79304652e-01, 7.20695348e-01],\n",
       "       [2.60296121e-01, 7.39703879e-01],\n",
       "       [1.78431092e-01, 8.21568908e-01],\n",
       "       [5.99485027e-01, 4.00514973e-01],\n",
       "       [1.45753248e-01, 8.54246752e-01],\n",
       "       [1.85615543e-01, 8.14384457e-01],\n",
       "       [6.55795150e-01, 3.44204850e-01],\n",
       "       [5.76104764e-01, 4.23895236e-01],\n",
       "       [4.85790974e-02, 9.51420903e-01],\n",
       "       [2.16577841e-01, 7.83422159e-01],\n",
       "       [6.55795150e-01, 3.44204850e-01],\n",
       "       [1.64718617e-01, 8.35281383e-01],\n",
       "       [2.79304652e-01, 7.20695348e-01],\n",
       "       [5.28411828e-01, 4.71588172e-01],\n",
       "       [4.56167778e-01, 5.43832222e-01],\n",
       "       [5.40418662e-01, 4.59581338e-01],\n",
       "       [5.04313196e-01, 4.95686804e-01],\n",
       "       [5.76104764e-01, 4.23895236e-01],\n",
       "       [5.04313196e-01, 4.95686804e-01],\n",
       "       [2.42146589e-01, 7.57853411e-01],\n",
       "       [5.40418662e-01, 4.59581338e-01],\n",
       "       [2.60296121e-01, 7.39703879e-01],\n",
       "       [6.55795150e-01, 3.44204850e-01],\n",
       "       [5.99485027e-01, 4.00514973e-01],\n",
       "       [3.85722144e-01, 6.14277856e-01],\n",
       "       [1.90785111e-02, 9.80921489e-01],\n",
       "       [5.99485027e-01, 4.00514973e-01],\n",
       "       [5.16372030e-01, 4.83627970e-01],\n",
       "       [4.08827771e-01, 5.91172229e-01],\n",
       "       [6.55795150e-01, 3.44204850e-01],\n",
       "       [1.78431092e-01, 8.21568908e-01],\n",
       "       [1.45753248e-01, 8.54246752e-01],\n",
       "       [1.78431092e-01, 8.21568908e-01],\n",
       "       [4.20540473e-01, 5.79459527e-01],\n",
       "       [3.09354588e-01, 6.90645412e-01],\n",
       "       [6.98694420e-02, 9.30130558e-01],\n",
       "       [5.76104764e-01, 4.23895236e-01],\n",
       "       [5.04313196e-01, 4.95686804e-01],\n",
       "       [5.76104764e-01, 4.23895236e-01],\n",
       "       [4.85790974e-02, 9.51420903e-01],\n",
       "       [5.04313196e-01, 4.95686804e-01],\n",
       "       [6.33693465e-01, 3.66306535e-01],\n",
       "       [1.08504061e-01, 8.91495939e-01],\n",
       "       [5.99485027e-01, 4.00514973e-01],\n",
       "       [5.04313196e-01, 4.95686804e-01],\n",
       "       [4.20540473e-01, 5.79459527e-01],\n",
       "       [4.20540473e-01, 5.79459527e-01],\n",
       "       [3.41107347e-01, 6.58892653e-01],\n",
       "       [4.20540473e-01, 5.79459527e-01],\n",
       "       [5.40418662e-01, 4.59581338e-01],\n",
       "       [5.99485027e-01, 4.00514973e-01],\n",
       "       [5.76104764e-01, 4.23895236e-01],\n",
       "       [5.40418662e-01, 4.59581338e-01],\n",
       "       [6.55795150e-01, 3.44204850e-01],\n",
       "       [4.56167778e-01, 5.43832222e-01],\n",
       "       [5.04313196e-01, 4.95686804e-01],\n",
       "       [1.78431092e-01, 8.21568908e-01],\n",
       "       [5.40418662e-01, 4.59581338e-01],\n",
       "       [4.80194506e-01, 5.19805494e-01],\n",
       "       [4.20540473e-01, 5.79459527e-01],\n",
       "       [2.60296121e-01, 7.39703879e-01],\n",
       "       [1.78431092e-01, 8.21568908e-01],\n",
       "       [5.40418662e-01, 4.59581338e-01],\n",
       "       [2.60296121e-01, 7.39703879e-01],\n",
       "       [3.63120267e-01, 6.36879733e-01],\n",
       "       [2.16577841e-01, 7.83422159e-01],\n",
       "       [1.45753248e-01, 8.54246752e-01],\n",
       "       [1.45753248e-01, 8.54246752e-01],\n",
       "       [5.04313196e-01, 4.95686804e-01],\n",
       "       [3.41107347e-01, 6.58892653e-01],\n",
       "       [3.63120267e-01, 6.36879733e-01],\n",
       "       [5.99485027e-01, 4.00514973e-01],\n",
       "       [0.00000000e+00, 1.00000000e+00],\n",
       "       [4.20540473e-01, 5.79459527e-01],\n",
       "       [1.18199015e-01, 8.81800985e-01],\n",
       "       [1.93021309e-01, 8.06978691e-01],\n",
       "       [4.20540473e-01, 5.79459527e-01],\n",
       "       [4.20540473e-01, 5.79459527e-01],\n",
       "       [5.40418662e-01, 4.59581338e-01],\n",
       "       [2.11225482e-10, 1.00000000e+00],\n",
       "       [2.60296121e-01, 7.39703879e-01],\n",
       "       [2.16577841e-01, 7.83422159e-01],\n",
       "       [4.20540473e-01, 5.79459527e-01],\n",
       "       [5.40418662e-01, 4.59581338e-01],\n",
       "       [5.76104764e-01, 4.23895236e-01],\n",
       "       [3.63120267e-01, 6.36879733e-01],\n",
       "       [3.05505246e-02, 9.69449475e-01],\n",
       "       [5.99485027e-01, 4.00514973e-01],\n",
       "       [1.64718617e-01, 8.35281383e-01],\n",
       "       [0.00000000e+00, 1.00000000e+00],\n",
       "       [5.40418662e-01, 4.59581338e-01],\n",
       "       [5.40418662e-01, 4.59581338e-01],\n",
       "       [3.85722144e-01, 6.14277856e-01],\n",
       "       [4.56167778e-01, 5.43832222e-01],\n",
       "       [6.33693465e-01, 3.66306535e-01],\n",
       "       [3.05505246e-02, 9.69449475e-01],\n",
       "       [1.28635230e-01, 8.71364770e-01],\n",
       "       [4.09323176e-04, 9.99590677e-01],\n",
       "       [1.45753248e-01, 8.54246752e-01],\n",
       "       [5.40418662e-01, 4.59581338e-01],\n",
       "       [4.09323176e-04, 9.99590677e-01],\n",
       "       [3.09354588e-01, 6.90645412e-01],\n",
       "       [5.40418662e-01, 4.59581338e-01],\n",
       "       [5.04313196e-01, 4.95686804e-01],\n",
       "       [4.20540473e-01, 5.79459527e-01],\n",
       "       [5.76104764e-01, 4.23895236e-01],\n",
       "       [2.16577841e-01, 7.83422159e-01],\n",
       "       [7.64082186e-02, 9.23591781e-01],\n",
       "       [4.85790974e-02, 9.51420903e-01],\n",
       "       [4.56167778e-01, 5.43832222e-01],\n",
       "       [3.19758891e-01, 6.80241109e-01],\n",
       "       [5.76104764e-01, 4.23895236e-01],\n",
       "       [1.78431092e-01, 8.21568908e-01],\n",
       "       [3.63120267e-01, 6.36879733e-01],\n",
       "       [6.55795150e-01, 3.44204850e-01],\n",
       "       [2.60296121e-01, 7.39703879e-01],\n",
       "       [3.09354588e-01, 6.90645412e-01],\n",
       "       [4.80194506e-01, 5.19805494e-01],\n",
       "       [1.18199015e-01, 8.81800985e-01],\n",
       "       [1.93021309e-01, 8.06978691e-01],\n",
       "       [5.28411828e-01, 4.71588172e-01],\n",
       "       [1.90785111e-02, 9.80921489e-01],\n",
       "       [4.20540473e-01, 5.79459527e-01],\n",
       "       [2.60296121e-01, 7.39703879e-01],\n",
       "       [2.16577841e-01, 7.83422159e-01]])"
      ]
     },
     "execution_count": 14,
     "metadata": {},
     "output_type": "execute_result"
    }
   ],
   "source": [
    "model.predict_proba(X_test)"
   ]
  },
  {
   "cell_type": "code",
   "execution_count": 15,
   "id": "f8a30d62-26ff-4bc4-8097-cc652f437b62",
   "metadata": {},
   "outputs": [],
   "source": [
    "import math\n",
    "\n",
    "def sigmoid(x):\n",
    "    y = 1 / (1+ math.exp(-x))\n",
    "    return y"
   ]
  },
  {
   "cell_type": "code",
   "execution_count": 16,
   "id": "33a3a6d5-8cb1-4658-9f82-a3d7dea47681",
   "metadata": {},
   "outputs": [],
   "source": [
    "def pred_fn(salary, model):\n",
    "    eqn = model.coef_ * salary + model.intercept_\n",
    "    y = sigmoid(eqn)\n",
    "    return y"
   ]
  },
  {
   "cell_type": "code",
   "execution_count": 17,
   "id": "f728ab59-dc8c-4efa-bfa8-a08da6d84207",
   "metadata": {},
   "outputs": [
    {
     "name": "stderr",
     "output_type": "stream",
     "text": [
      "C:\\Users\\yuvra\\AppData\\Local\\Temp\\ipykernel_32632\\4170660433.py:4: DeprecationWarning: Conversion of an array with ndim > 0 to a scalar is deprecated, and will error in future. Ensure you extract a single element from your array before performing this operation. (Deprecated NumPy 1.25.)\n",
      "  y = 1 / (1+ math.exp(-x))\n"
     ]
    },
    {
     "data": {
      "text/plain": [
       "0.4595813380380745"
      ]
     },
     "execution_count": 17,
     "metadata": {},
     "output_type": "execute_result"
    }
   ],
   "source": [
    "pred_fn(3500, model)"
   ]
  },
  {
   "cell_type": "code",
   "execution_count": 18,
   "id": "de90d0b4-28d3-4db8-aea3-ca49593bf6fc",
   "metadata": {},
   "outputs": [
    {
     "name": "stderr",
     "output_type": "stream",
     "text": [
      "C:\\Users\\yuvra\\AppData\\Local\\Temp\\ipykernel_32632\\4170660433.py:4: DeprecationWarning: Conversion of an array with ndim > 0 to a scalar is deprecated, and will error in future. Ensure you extract a single element from your array before performing this operation. (Deprecated NumPy 1.25.)\n",
      "  y = 1 / (1+ math.exp(-x))\n"
     ]
    },
    {
     "data": {
      "text/plain": [
       "0.614277855757899"
      ]
     },
     "execution_count": 18,
     "metadata": {},
     "output_type": "execute_result"
    }
   ],
   "source": [
    "pred_fn(4800, model)"
   ]
  },
  {
   "cell_type": "code",
   "execution_count": 21,
   "id": "91a38817-5a67-4e62-9cd7-9a7124aa39ff",
   "metadata": {},
   "outputs": [
    {
     "name": "stdout",
     "output_type": "stream",
     "text": [
      "              precision    recall  f1-score   support\n",
      "\n",
      "           0       0.90      0.80      0.85        66\n",
      "           1       0.87      0.94      0.90        95\n",
      "\n",
      "    accuracy                           0.88       161\n",
      "   macro avg       0.89      0.87      0.88       161\n",
      "weighted avg       0.88      0.88      0.88       161\n",
      "\n"
     ]
    }
   ],
   "source": [
    "from sklearn.metrics import classification_report\n",
    "\n",
    "result = classification_report(y_test, y_pred)\n",
    "\n",
    "print(result)"
   ]
  },
  {
   "cell_type": "code",
   "execution_count": 22,
   "id": "6efd2895-4730-41c7-9215-12afb028fd92",
   "metadata": {},
   "outputs": [
    {
     "data": {
      "text/plain": [
       "array([[53, 13],\n",
       "       [ 6, 89]])"
      ]
     },
     "execution_count": 22,
     "metadata": {},
     "output_type": "execute_result"
    }
   ],
   "source": [
    "from sklearn.metrics import confusion_matrix\n",
    "\n",
    "cm = confusion_matrix(y_test, y_pred)\n",
    "cm"
   ]
  },
  {
   "cell_type": "code",
   "execution_count": 28,
   "id": "6aca5a79-1e03-4513-ba05-5ec3daee1417",
   "metadata": {},
   "outputs": [
    {
     "data": {
      "text/plain": [
       "<Axes: >"
      ]
     },
     "execution_count": 28,
     "metadata": {},
     "output_type": "execute_result"
    },
    {
     "data": {
      "image/png": "[encoded data removed]",
      "text/plain": [
       "<Figure size 640x480 with 2 Axes>"
      ]
     },
     "metadata": {},
     "output_type": "display_data"
    }
   ],
   "source": [
    "import seaborn as sns\n",
    "\n",
    "sns.heatmap(cm, annot=True)"
   ]
  }
 ],
 "metadata": {
  "kernelspec": {
   "display_name": "Python 3 (ipykernel)",
   "language": "python",
   "name": "python3"
  },
  "language_info": {
   "codemirror_mode": {
    "name": "ipython",
    "version": 3
   },
   "file_extension": ".py",
   "mimetype": "text/x-python",
   "name": "python",
   "nbconvert_exporter": "python",
   "pygments_lexer": "ipython3",
   "version": "3.13.5"
  }
 },
 "nbformat": 4,
 "nbformat_minor": 5
}
